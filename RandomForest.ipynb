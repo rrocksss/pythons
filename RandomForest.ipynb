{
  "nbformat": 4,
  "nbformat_minor": 0,
  "metadata": {
    "colab": {
      "provenance": []
    },
    "kernelspec": {
      "name": "python3",
      "display_name": "Python 3"
    },
    "language_info": {
      "name": "python"
    }
  },
  "cells": [
    {
      "cell_type": "markdown",
      "source": [
        "Anggota Kelompok :\n",
        "- 2440012661  - Richard Anderson Wunarto\n",
        "- 2401960284  - Jeremiah Dylan Julianto\n",
        "- 2440004880  - Felix Tio\n",
        "- 2440012421  - Christopher Nathanael\n",
        "\n",
        "Untuk dataset sendiri kami lampirkan bersama file ipynb dalam bentuk file excel, sebelum menjalankan code pyhton ini mohon untuk mengupload dataset yang kami lampirkan ke dalam folder /sample pada google colab"
      ],
      "metadata": {
        "id": "7N2JDMqeqZeI"
      }
    },
    {
      "cell_type": "code",
      "execution_count": null,
      "metadata": {
        "id": "_DdZR96xF9US"
      },
      "outputs": [],
      "source": [
        "#import libraries\n",
        "\n",
        "import numpy as np\n",
        "#untuk keperluan mengubah data csv menjadi array\n",
        "\n",
        "import pandas as pd\n",
        "#untuk keperluan read dan manage dataframe\n",
        "\n",
        "import matplotlib.pyplot as plt\n",
        "#untuk keperluan visualisasi data\n",
        "\n",
        "import seaborn as sns\n",
        "#untuk keperluan visualisasi data menggunakan boxplot\n",
        "\n",
        "from sklearn.model_selection import train_test_split\n",
        "#untuk keperluan membagi data sesuai dengan perbandingan yang diinginkan\n",
        "\n",
        "from sklearn.ensemble import RandomForestClassifier\n",
        "#untuk keperluan classification menggunakan metode random forest classification\n",
        "\n",
        "from sklearn.metrics import classification_report\n",
        "#untuk mennampilkan evaluasi dari model classification\n",
        "\n",
        "import matplotlib.pyplot as plt\n",
        "from sklearn.metrics import confusion_matrix\n",
        "from sklearn.metrics import plot_confusion_matrix"
      ]
    },
    {
      "cell_type": "code",
      "source": [
        "#membaca data yang berbentuk excel\n",
        "\n",
        "data = pd.read_excel('/content/sample_data/dataset.xlsx')"
      ],
      "metadata": {
        "id": "INbQHVl2Gl4S"
      },
      "execution_count": null,
      "outputs": []
    },
    {
      "cell_type": "code",
      "source": [
        "#menampilkan atribut apa saja yang ada di dalam data\n",
        "\n",
        "data.info()"
      ],
      "metadata": {
        "id": "6Wc6XCnZGxGT",
        "colab": {
          "base_uri": "https://localhost:8080/"
        },
        "outputId": "479c4298-9c6f-4779-ffc0-f30f2420b9d8"
      },
      "execution_count": null,
      "outputs": [
        {
          "output_type": "stream",
          "name": "stdout",
          "text": [
            "<class 'pandas.core.frame.DataFrame'>\n",
            "RangeIndex: 1000 entries, 0 to 999\n",
            "Data columns (total 25 columns):\n",
            " #   Column                    Non-Null Count  Dtype \n",
            "---  ------                    --------------  ----- \n",
            " 0   Patient Id                1000 non-null   object\n",
            " 1   Age                       1000 non-null   int64 \n",
            " 2   Gender                    1000 non-null   int64 \n",
            " 3   Air Pollution             1000 non-null   int64 \n",
            " 4   Alcohol use               1000 non-null   int64 \n",
            " 5   Dust Allergy              1000 non-null   int64 \n",
            " 6   OccuPational Hazards      1000 non-null   int64 \n",
            " 7   Genetic Risk              1000 non-null   int64 \n",
            " 8   chronic Lung Disease      1000 non-null   int64 \n",
            " 9   Balanced Diet             1000 non-null   int64 \n",
            " 10  Obesity                   1000 non-null   int64 \n",
            " 11  Smoking                   1000 non-null   int64 \n",
            " 12  Passive Smoker            1000 non-null   int64 \n",
            " 13  Chest Pain                1000 non-null   int64 \n",
            " 14  Coughing of Blood         1000 non-null   int64 \n",
            " 15  Fatigue                   1000 non-null   int64 \n",
            " 16  Weight Loss               1000 non-null   int64 \n",
            " 17  Shortness of Breath       1000 non-null   int64 \n",
            " 18  Wheezing                  1000 non-null   int64 \n",
            " 19  Swallowing Difficulty     1000 non-null   int64 \n",
            " 20  Clubbing of Finger Nails  1000 non-null   int64 \n",
            " 21  Frequent Cold             1000 non-null   int64 \n",
            " 22  Dry Cough                 1000 non-null   int64 \n",
            " 23  Snoring                   1000 non-null   int64 \n",
            " 24  Level                     1000 non-null   object\n",
            "dtypes: int64(23), object(2)\n",
            "memory usage: 195.4+ KB\n"
          ]
        }
      ]
    },
    {
      "cell_type": "code",
      "source": [
        "#mengubah data menjadi array untuk keperluan klasifikasi\n",
        "\n",
        "arr = data.to_numpy()"
      ],
      "metadata": {
        "id": "d5dG6l65rl-Z"
      },
      "execution_count": null,
      "outputs": []
    },
    {
      "cell_type": "code",
      "source": [
        "#menampung semua nilai dari kolom 1 - 23 dalam variabel x dan kolom 24 dalam variabel y\n",
        "\n",
        "x = arr[:,1:24]\n",
        "y = arr[:,24]"
      ],
      "metadata": {
        "id": "ofp0-p_TuZp2"
      },
      "execution_count": null,
      "outputs": []
    },
    {
      "cell_type": "code",
      "source": [
        "#deklarasi clf sebagai Random Forest Classifier\n",
        "\n",
        "clf = RandomForestClassifier()"
      ],
      "metadata": {
        "id": "drw0niLosM92"
      },
      "execution_count": null,
      "outputs": []
    },
    {
      "cell_type": "code",
      "source": [
        "#melakukan machine learning menggunakan data x dan y untuk klasifikasi\n",
        "\n",
        "clf.fit(x,y)"
      ],
      "metadata": {
        "id": "1Q5xZG43sQXc",
        "colab": {
          "base_uri": "https://localhost:8080/"
        },
        "outputId": "48a854a1-3328-4616-df52-4c1671a10c04"
      },
      "execution_count": null,
      "outputs": [
        {
          "output_type": "execute_result",
          "data": {
            "text/plain": [
              "RandomForestClassifier()"
            ]
          },
          "metadata": {},
          "execution_count": 87
        }
      ]
    },
    {
      "cell_type": "code",
      "source": [
        "#menampilkan nilai kepentingan dari setiap atribut dari x terhadap y\n",
        "\n",
        "print(clf.feature_importances_)"
      ],
      "metadata": {
        "id": "g-0ZnLyTsToC",
        "colab": {
          "base_uri": "https://localhost:8080/"
        },
        "outputId": "346268ee-4caf-49e6-d6d2-474ce39cf2e7"
      },
      "execution_count": null,
      "outputs": [
        {
          "output_type": "stream",
          "name": "stdout",
          "text": [
            "[4.40294162e-03 7.33723674e-05 3.01024855e-02 7.10541840e-02\n",
            " 3.85178894e-02 4.90424271e-02 3.08703399e-02 3.23237649e-02\n",
            " 4.27080243e-02 7.19124627e-02 4.09965668e-02 8.08598999e-02\n",
            " 3.67311638e-02 1.13511555e-01 6.19360312e-02 1.76199802e-02\n",
            " 3.01400674e-02 7.46524949e-02 4.76269618e-02 3.59250791e-02\n",
            " 2.59409858e-02 2.27204475e-02 4.03308749e-02]\n"
          ]
        }
      ]
    },
    {
      "cell_type": "code",
      "source": [
        "#mencari faktor/atribut yang paling mempengaruhi dan yang paling tidak mempengaruhi y\n",
        "\n",
        "most_affect = clf.feature_importances_.argmax()\n",
        "least_affect = clf.feature_importances_.argmin()"
      ],
      "metadata": {
        "id": "C4qroaokzDnK"
      },
      "execution_count": null,
      "outputs": []
    },
    {
      "cell_type": "code",
      "source": [
        "#menampilkan atribut yang paling mempengaruhi\n",
        "\n",
        "print(\"Most affect factor = \")\n",
        "data.columns[most_affect]"
      ],
      "metadata": {
        "id": "jEXBgb8n0OrI",
        "colab": {
          "base_uri": "https://localhost:8080/",
          "height": 53
        },
        "outputId": "93a4de68-fafe-4884-d38a-963742796615"
      },
      "execution_count": null,
      "outputs": [
        {
          "output_type": "stream",
          "name": "stdout",
          "text": [
            "Most affect factor = \n"
          ]
        },
        {
          "output_type": "execute_result",
          "data": {
            "text/plain": [
              "'Chest Pain'"
            ],
            "application/vnd.google.colaboratory.intrinsic+json": {
              "type": "string"
            }
          },
          "metadata": {},
          "execution_count": 90
        }
      ]
    },
    {
      "cell_type": "code",
      "source": [
        "#menampilkan dalam bentuk boxplot\n",
        "\n",
        "fig, ax = plt.subplots()\n",
        "plot = sns.boxplot(data = data, x = 'Level', y = 'Chest Pain', palette = ['blue','red','green'])"
      ],
      "metadata": {
        "id": "X1i6xL9A1x15",
        "colab": {
          "base_uri": "https://localhost:8080/",
          "height": 279
        },
        "outputId": "737ad5ae-bad0-428f-a91b-59c999ef5890"
      },
      "execution_count": null,
      "outputs": [
        {
          "output_type": "display_data",
          "data": {
            "text/plain": [
              "<Figure size 432x288 with 1 Axes>"
            ],
            "image/png": "[encoded data removed]"
          },
          "metadata": {
            "needs_background": "light"
          }
        }
      ]
    },
    {
      "cell_type": "code",
      "source": [
        "#menampilkan atribut yang paling tidak mempengaruhi\n",
        "\n",
        "print(\"Least affect factor = \")\n",
        "data.columns[least_affect]"
      ],
      "metadata": {
        "id": "e2hHMbaE0jG5",
        "colab": {
          "base_uri": "https://localhost:8080/",
          "height": 53
        },
        "outputId": "78753a11-57fb-4cd5-89d7-7d4f203baf1f"
      },
      "execution_count": null,
      "outputs": [
        {
          "output_type": "stream",
          "name": "stdout",
          "text": [
            "Least affect factor = \n"
          ]
        },
        {
          "output_type": "execute_result",
          "data": {
            "text/plain": [
              "'Age'"
            ],
            "application/vnd.google.colaboratory.intrinsic+json": {
              "type": "string"
            }
          },
          "metadata": {},
          "execution_count": 92
        }
      ]
    },
    {
      "cell_type": "code",
      "source": [
        "#menampilkan dalam bentuk boxplot\n",
        "\n",
        "fig, ax = plt.subplots()\n",
        "plot = sns.boxplot(data = data, x = 'Level', y = 'Age', palette = ['blue','red','green'])"
      ],
      "metadata": {
        "id": "UB5ouBFhyZmg",
        "colab": {
          "base_uri": "https://localhost:8080/",
          "height": 279
        },
        "outputId": "c261a2fa-3d42-4b54-92ee-33f6b496f60a"
      },
      "execution_count": null,
      "outputs": [
        {
          "output_type": "display_data",
          "data": {
            "text/plain": [
              "<Figure size 432x288 with 1 Axes>"
            ],
            "image/png": "[encoded data removed]"
          },
          "metadata": {
            "needs_background": "light"
          }
        }
      ]
    },
    {
      "cell_type": "code",
      "source": [
        "#Mencoba bagi data menjadi data training dan data sampel dengan perbandingan 8 : 2\n",
        "#train adalah data training, digunakan untuk machine learning\n",
        "#test adalah data sampel, digunakan untuk testing machine learning\n",
        "\n",
        "x_train, x_test, y_train, y_test = train_test_split(x,y, test_size = 0.2)"
      ],
      "metadata": {
        "id": "O-jiH0OiB0ra"
      },
      "execution_count": null,
      "outputs": []
    },
    {
      "cell_type": "code",
      "source": [
        "#membentuk ulang machine learning menggunakan classifier dengan data yang baru yaitu x_train dan y_train\n",
        "\n",
        "clf.fit(x_train,y_train)"
      ],
      "metadata": {
        "id": "SdvcBsapCF6y",
        "colab": {
          "base_uri": "https://localhost:8080/"
        },
        "outputId": "41d64e3d-297b-43b8-b071-32c9f09fb06a"
      },
      "execution_count": null,
      "outputs": [
        {
          "output_type": "execute_result",
          "data": {
            "text/plain": [
              "RandomForestClassifier()"
            ]
          },
          "metadata": {},
          "execution_count": 95
        }
      ]
    },
    {
      "cell_type": "code",
      "source": [
        "#menampilkan hasil prediksi menggunakan data sampel dengan classifier yang sudah dibuat\n",
        "y_pred = clf.predict(x_test)\n",
        "\n",
        "print(y_pred)"
      ],
      "metadata": {
        "id": "m1cDaDRlCRmu",
        "colab": {
          "base_uri": "https://localhost:8080/"
        },
        "outputId": "b4c710ac-1594-4cfd-9d72-cf517c27fa0d"
      },
      "execution_count": null,
      "outputs": [
        {
          "output_type": "stream",
          "name": "stdout",
          "text": [
            "['Low' 'Medium' 'Low' 'Low' 'Medium' 'Low' 'High' 'Medium' 'High' 'Medium'\n",
            " 'Low' 'High' 'High' 'High' 'Low' 'High' 'Medium' 'High' 'Low' 'High'\n",
            " 'High' 'Low' 'Medium' 'High' 'Low' 'Low' 'Medium' 'Low' 'High' 'Low'\n",
            " 'Medium' 'High' 'High' 'High' 'Low' 'Low' 'High' 'Low' 'Medium' 'High'\n",
            " 'High' 'High' 'Medium' 'High' 'Low' 'Medium' 'Medium' 'High' 'Medium'\n",
            " 'High' 'Low' 'Medium' 'Medium' 'High' 'High' 'High' 'Low' 'High' 'High'\n",
            " 'Medium' 'High' 'Medium' 'Medium' 'Medium' 'Low' 'High' 'Medium' 'Low'\n",
            " 'Low' 'High' 'High' 'High' 'High' 'Low' 'Medium' 'Low' 'Medium' 'High'\n",
            " 'Medium' 'Medium' 'High' 'High' 'Low' 'Medium' 'High' 'Medium' 'Medium'\n",
            " 'High' 'Low' 'High' 'Low' 'High' 'Medium' 'High' 'Medium' 'High' 'High'\n",
            " 'Medium' 'Medium' 'High' 'High' 'Low' 'Low' 'High' 'Low' 'Medium' 'High'\n",
            " 'High' 'Low' 'Medium' 'High' 'High' 'Low' 'Medium' 'Low' 'High' 'High'\n",
            " 'Low' 'Low' 'High' 'Low' 'High' 'High' 'Low' 'Low' 'High' 'High' 'Medium'\n",
            " 'High' 'High' 'Medium' 'Medium' 'High' 'High' 'High' 'High' 'High' 'High'\n",
            " 'High' 'Medium' 'Low' 'Low' 'Medium' 'Medium' 'Low' 'High' 'Medium'\n",
            " 'High' 'Low' 'High' 'Medium' 'Medium' 'Low' 'High' 'High' 'Medium' 'High'\n",
            " 'Low' 'Medium' 'Low' 'Medium' 'Low' 'Low' 'Low' 'Low' 'High' 'High' 'Low'\n",
            " 'Low' 'Medium' 'Medium' 'Medium' 'High' 'Medium' 'Medium' 'Medium'\n",
            " 'Medium' 'Low' 'High' 'Low' 'Medium' 'Low' 'High' 'Low' 'Medium' 'Low'\n",
            " 'Medium' 'Low' 'High' 'High' 'High' 'High' 'Medium' 'Medium' 'Low'\n",
            " 'Medium' 'Medium' 'High' 'High' 'Low']\n"
          ]
        }
      ]
    },
    {
      "cell_type": "code",
      "source": [],
      "metadata": {
        "id": "99E2H9oP7lLN"
      },
      "execution_count": null,
      "outputs": []
    },
    {
      "cell_type": "code",
      "source": [
        "#menampilkan hasil yang seharusnya\n",
        "\n",
        "print(y_test)"
      ],
      "metadata": {
        "id": "AKPlATHgCgq6",
        "colab": {
          "base_uri": "https://localhost:8080/"
        },
        "outputId": "f3ed99ff-9569-4454-c164-858f5383a90a"
      },
      "execution_count": null,
      "outputs": [
        {
          "output_type": "stream",
          "name": "stdout",
          "text": [
            "['Low' 'Medium' 'Low' 'Low' 'Medium' 'Low' 'High' 'Medium' 'High' 'Medium'\n",
            " 'Low' 'High' 'High' 'High' 'Low' 'High' 'Medium' 'High' 'Low' 'High'\n",
            " 'High' 'Low' 'Medium' 'High' 'Low' 'Low' 'Medium' 'Low' 'High' 'Low'\n",
            " 'Medium' 'High' 'High' 'High' 'Low' 'Low' 'High' 'Low' 'Medium' 'High'\n",
            " 'High' 'High' 'Medium' 'High' 'Low' 'Medium' 'Medium' 'High' 'Medium'\n",
            " 'High' 'Low' 'Medium' 'Medium' 'High' 'High' 'High' 'Low' 'High' 'High'\n",
            " 'Medium' 'High' 'Medium' 'Medium' 'Medium' 'Low' 'High' 'Medium' 'Low'\n",
            " 'Low' 'High' 'High' 'High' 'High' 'Low' 'Medium' 'Low' 'Medium' 'High'\n",
            " 'Medium' 'Medium' 'High' 'High' 'Low' 'Medium' 'High' 'Medium' 'Medium'\n",
            " 'High' 'Low' 'High' 'Low' 'High' 'Medium' 'High' 'Medium' 'High' 'High'\n",
            " 'Medium' 'Medium' 'High' 'High' 'Low' 'Low' 'High' 'Low' 'Medium' 'High'\n",
            " 'High' 'Low' 'Medium' 'High' 'High' 'Low' 'Medium' 'Low' 'High' 'High'\n",
            " 'Low' 'Low' 'High' 'Low' 'High' 'High' 'Low' 'Low' 'High' 'High' 'Medium'\n",
            " 'High' 'High' 'Medium' 'Medium' 'High' 'High' 'High' 'High' 'High' 'High'\n",
            " 'High' 'Medium' 'Low' 'Low' 'Medium' 'Medium' 'Low' 'High' 'Medium'\n",
            " 'High' 'Low' 'High' 'Medium' 'Medium' 'Low' 'High' 'High' 'Medium' 'High'\n",
            " 'Low' 'Medium' 'Low' 'Medium' 'Low' 'Low' 'Low' 'Low' 'High' 'High' 'Low'\n",
            " 'Low' 'Medium' 'Medium' 'Medium' 'High' 'Medium' 'Medium' 'Medium'\n",
            " 'Medium' 'Low' 'High' 'Low' 'Medium' 'Low' 'High' 'Low' 'Medium' 'Low'\n",
            " 'Medium' 'Low' 'High' 'High' 'High' 'High' 'Medium' 'Medium' 'Low'\n",
            " 'Medium' 'Medium' 'High' 'High' 'Low']\n"
          ]
        }
      ]
    },
    {
      "cell_type": "code",
      "source": [
        "#komparasi antara prediksi sampel dengan hasil yang seharusnya\n",
        "\n",
        "print(clf.score(x_test,y_test))"
      ],
      "metadata": {
        "id": "PEJDxHuiCq93",
        "colab": {
          "base_uri": "https://localhost:8080/"
        },
        "outputId": "8ce8b34d-7c5c-400b-b1e3-54756889d7fd"
      },
      "execution_count": null,
      "outputs": [
        {
          "output_type": "stream",
          "name": "stdout",
          "text": [
            "1.0\n"
          ]
        }
      ]
    },
    {
      "cell_type": "code",
      "source": [
        "print(classification_report(y_test, y_pred))"
      ],
      "metadata": {
        "id": "dpUMJp8nGUE5",
        "colab": {
          "base_uri": "https://localhost:8080/"
        },
        "outputId": "71cd1c04-5e75-4496-996e-0346577ea436"
      },
      "execution_count": null,
      "outputs": [
        {
          "output_type": "stream",
          "name": "stdout",
          "text": [
            "              precision    recall  f1-score   support\n",
            "\n",
            "        High       1.00      1.00      1.00        82\n",
            "         Low       1.00      1.00      1.00        58\n",
            "      Medium       1.00      1.00      1.00        60\n",
            "\n",
            "    accuracy                           1.00       200\n",
            "   macro avg       1.00      1.00      1.00       200\n",
            "weighted avg       1.00      1.00      1.00       200\n",
            "\n"
          ]
        }
      ]
    },
    {
      "cell_type": "code",
      "source": [
        "#menunjukkan plot_confusion_matrix yang digunakan sebagai visualisasi\n",
        "print(confusion_matrix(y_test, y_pred))\n",
        "\n",
        "plot_confusion_matrix(clf, x_test, y_test)\n",
        "plt.show()"
      ],
      "metadata": {
        "colab": {
          "base_uri": "https://localhost:8080/",
          "height": 388
        },
        "id": "GeLBN-TMb_dg",
        "outputId": "ef3cfaf3-72d0-4596-9f8c-5b1f5504e774"
      },
      "execution_count": null,
      "outputs": [
        {
          "output_type": "stream",
          "name": "stdout",
          "text": [
            "[[82  0  0]\n",
            " [ 0 58  0]\n",
            " [ 0  0 60]]\n"
          ]
        },
        {
          "output_type": "stream",
          "name": "stderr",
          "text": [
            "/usr/local/lib/python3.8/dist-packages/sklearn/utils/deprecation.py:87: FutureWarning: Function plot_confusion_matrix is deprecated; Function `plot_confusion_matrix` is deprecated in 1.0 and will be removed in 1.2. Use one of the class methods: ConfusionMatrixDisplay.from_predictions or ConfusionMatrixDisplay.from_estimator.\n",
            "  warnings.warn(msg, category=FutureWarning)\n"
          ]
        },
        {
          "output_type": "display_data",
          "data": {
            "text/plain": [
              "<Figure size 432x288 with 2 Axes>"
            ],
            "image/png": "[encoded data removed]"
          },
          "metadata": {
            "needs_background": "light"
          }
        }
      ]
    }
  ]
}